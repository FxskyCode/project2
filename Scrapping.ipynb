{
 "cells": [
  {
   "cell_type": "markdown",
   "id": "13feebdc",
   "metadata": {},
   "source": [
    "# Web Scrapping"
   ]
  },
  {
   "cell_type": "code",
   "execution_count": 22,
   "id": "c9fb12de",
   "metadata": {},
   "outputs": [],
   "source": [
    "#importing\n",
    "import requests\n",
    "from bs4 import BeautifulSoup\n",
    "import pandas as pd\n",
    "import requests\n",
    "import re"
   ]
  },
  {
   "cell_type": "code",
   "execution_count": 23,
   "id": "4f95397c",
   "metadata": {},
   "outputs": [],
   "source": [
    "#web url \n",
    "url = \"https://www.318chess.com/elo.html\""
   ]
  },
  {
   "cell_type": "code",
   "execution_count": 24,
   "id": "99c7869f",
   "metadata": {},
   "outputs": [
    {
     "data": {
      "text/plain": [
       "<Response [200]>"
      ]
     },
     "execution_count": 24,
     "metadata": {},
     "output_type": "execute_result"
    }
   ],
   "source": [
    "# requesting\n",
    "html = requests.get(url)\n",
    "html"
   ]
  },
  {
   "cell_type": "code",
   "execution_count": 25,
   "id": "2752f41d",
   "metadata": {},
   "outputs": [],
   "source": [
    "#parsing html\n",
    "soup = BeautifulSoup(html.content, \"html.parser\")\n"
   ]
  },
  {
   "cell_type": "code",
   "execution_count": 26,
   "id": "971dc1ee",
   "metadata": {},
   "outputs": [
    {
     "data": {
      "text/plain": [
       "[<table class=\"table table-hover\">\n",
       " <th>Rating diff</th>\n",
       " <th>Prob win</th>\n",
       " <col width=\"50\"/>\n",
       " <col width=\"60\"/>\n",
       " <tr><td>+800</td><td>0.99%</td></tr>\n",
       " <tr><td>+750</td><td>1.32%</td></tr>\n",
       " <tr><td>+700</td><td>1.75%</td></tr>\n",
       " <tr><td>+650</td><td>2.32%</td></tr>\n",
       " <tr><td>+600</td><td>3.07%</td></tr>\n",
       " <tr><td>+550</td><td>4.05%</td></tr>\n",
       " <tr><td>+500</td><td>5.32%</td></tr>\n",
       " <tr><td>+450</td><td>6.98%</td></tr>\n",
       " <tr><td>+400</td><td>9.09%</td></tr>\n",
       " <tr><td>+350</td><td>11.77%</td></tr>\n",
       " <tr><td>+300</td><td>15.10%</td></tr>\n",
       " <tr><td>+250</td><td>19.17%</td></tr>\n",
       " <tr><td>+200</td><td>24.03%</td></tr>\n",
       " <tr><td>+150</td><td>29.66%</td></tr>\n",
       " <tr><td>+100</td><td>35.99%</td></tr>\n",
       " <tr><td>+50</td><td>42.85%</td></tr>\n",
       " <tr><td><strong>0</strong></td><td><strong>50.00%</strong></td></tr>\n",
       " <tr><td>-50</td><td>57.15%</td></tr>\n",
       " <tr><td>-100</td><td>64.01%</td></tr>\n",
       " <tr><td>-150</td><td>70.34%</td></tr>\n",
       " <tr><td>-200</td><td>75.97%</td></tr>\n",
       " <tr><td>-250</td><td>80.83%</td></tr>\n",
       " <tr><td>-300</td><td>84.90%</td></tr>\n",
       " <tr><td>-350</td><td>88.23%</td></tr>\n",
       " <tr><td>-400</td><td>90.91%</td></tr>\n",
       " <tr><td>-450</td><td>93.02%</td></tr>\n",
       " <tr><td>-500</td><td>94.68%</td></tr>\n",
       " <tr><td>-550</td><td>95.95%</td></tr>\n",
       " <tr><td>-600</td><td>96.93%</td></tr>\n",
       " <tr><td>-650</td><td>97.68%</td></tr>\n",
       " <tr><td>-700</td><td>98.25%</td></tr>\n",
       " <tr><td>-750</td><td>98.68%</td></tr>\n",
       " <tr><td>-800</td><td>99.01%</td></tr>\n",
       " </table>]"
      ]
     },
     "execution_count": 26,
     "metadata": {},
     "output_type": "execute_result"
    }
   ],
   "source": [
    "#first look at content\n",
    "tags = soup.find_all(\"table\")\n",
    "tags"
   ]
  },
  {
   "cell_type": "code",
   "execution_count": 27,
   "id": "bb1ef2fe",
   "metadata": {},
   "outputs": [
    {
     "data": {
      "text/plain": [
       "1"
      ]
     },
     "execution_count": 27,
     "metadata": {},
     "output_type": "execute_result"
    }
   ],
   "source": [
    "#cheking len\n",
    "len(tags)"
   ]
  },
  {
   "cell_type": "code",
   "execution_count": 28,
   "id": "5f4f5236",
   "metadata": {},
   "outputs": [
    {
     "data": {
      "text/plain": [
       "bs4.element.Tag"
      ]
     },
     "execution_count": 28,
     "metadata": {},
     "output_type": "execute_result"
    }
   ],
   "source": [
    "type(tags[0])"
   ]
  },
  {
   "cell_type": "code",
   "execution_count": 29,
   "id": "09281543",
   "metadata": {
    "scrolled": true
   },
   "outputs": [],
   "source": [
    "# looking for all tr tags\n",
    "table = tags[0].find_all(\"tr\")"
   ]
  },
  {
   "cell_type": "code",
   "execution_count": 30,
   "id": "24eb826e",
   "metadata": {},
   "outputs": [
    {
     "name": "stdout",
     "output_type": "stream",
     "text": [
      "[800, 750, 700, 650, 600, 550, 500, 450, 400, 350, 300, 250, 200, 150, 100, 50, 0, -50, -100, -150, -200, -250, -300, -350, -400, -450, -500, -550, -600, -650, -700, -750, -800]\n",
      "[0.99, 1.32, 1.75, 2.32, 3.07, 4.05, 5.32, 6.98, 9.09, 11.77, 15.1, 19.17, 24.03, 29.66, 35.99, 42.85, 50.0, 57.15, 64.01, 70.34, 75.97, 80.83, 84.9, 88.23, 90.91, 93.02, 94.68, 95.95, 96.93, 97.68, 98.25, 98.68, 99.01]\n"
     ]
    }
   ],
   "source": [
    "#extracting % win and based on elo diference standars\n",
    "elo_difference = []\n",
    "win_percentage = []\n",
    "count = 0\n",
    "for i in table:\n",
    "    for y in i:\n",
    "        count += 1\n",
    "        x = y.text.replace(\"%\",\"\")\n",
    "        if count % 2 == 0:\n",
    "            win_percentage.append(float(x))\n",
    "        else:\n",
    "            elo_difference.append(int(x))\n",
    "print(elo_difference)\n",
    "print(win_percentage)\n",
    "        "
   ]
  },
  {
   "cell_type": "code",
   "execution_count": null,
   "id": "31f8af75",
   "metadata": {},
   "outputs": [],
   "source": []
  },
  {
   "cell_type": "code",
   "execution_count": null,
   "id": "595f1687",
   "metadata": {},
   "outputs": [],
   "source": []
  },
  {
   "cell_type": "code",
   "execution_count": 31,
   "id": "b0bf3803",
   "metadata": {},
   "outputs": [],
   "source": [
    "#hard try to split the elo differnce + % win rate\n",
    "#newarray = []\n",
    "#interruptor = False\n",
    "#contador = 0\n",
    "#for i in elo_winrate_list:\n",
    "    #if len(i) == 8:\n",
    "       # newarray[contador][0] = i[-4:]\n",
    "       # newarray[contador][1] = i[:-4]\n",
    "  #  elif len(i) == 7:\n",
    "   #     interruptor = True\n",
    "    #    newarray[contador][0] = i[-4:]\n",
    "     #   newarray[contador][1] = i[:-4]\n",
    " #   elif len(i) == 6:\n",
    "  #      if interruptor:\n",
    "   #         newarray[contador][0] = i[-4:]\n",
    "  #          newarray[contador][1] = i[:-4]\n",
    "  #      else:\n",
    " #           newarray[contador][0] = i[-3:]\n",
    " #           newarray[contador][1] = i[:-3]\n",
    " #   elif len(i) == 5:\n",
    "#        newarray[contador][0] = 0\n",
    " #       newarray[contador][1] = 50\n",
    "#    contador += 1\n",
    "\n",
    "#for i in newarray:\n",
    " #   print(f\"ELO: {newarray[i][0]}\")\n",
    " #   print(f\"ELO: {newarray[i][1]}\")"
   ]
  },
  {
   "cell_type": "code",
   "execution_count": 32,
   "id": "6158f616",
   "metadata": {},
   "outputs": [
    {
     "data": {
      "text/html": [
       "<div>\n",
       "<style scoped>\n",
       "    .dataframe tbody tr th:only-of-type {\n",
       "        vertical-align: middle;\n",
       "    }\n",
       "\n",
       "    .dataframe tbody tr th {\n",
       "        vertical-align: top;\n",
       "    }\n",
       "\n",
       "    .dataframe thead th {\n",
       "        text-align: right;\n",
       "    }\n",
       "</style>\n",
       "<table border=\"1\" class=\"dataframe\">\n",
       "  <thead>\n",
       "    <tr style=\"text-align: right;\">\n",
       "      <th></th>\n",
       "      <th>elo_diff</th>\n",
       "      <th>win_percentage</th>\n",
       "    </tr>\n",
       "  </thead>\n",
       "  <tbody>\n",
       "    <tr>\n",
       "      <th>0</th>\n",
       "      <td>800</td>\n",
       "      <td>0.99</td>\n",
       "    </tr>\n",
       "    <tr>\n",
       "      <th>1</th>\n",
       "      <td>750</td>\n",
       "      <td>1.32</td>\n",
       "    </tr>\n",
       "    <tr>\n",
       "      <th>2</th>\n",
       "      <td>700</td>\n",
       "      <td>1.75</td>\n",
       "    </tr>\n",
       "    <tr>\n",
       "      <th>3</th>\n",
       "      <td>650</td>\n",
       "      <td>2.32</td>\n",
       "    </tr>\n",
       "    <tr>\n",
       "      <th>4</th>\n",
       "      <td>600</td>\n",
       "      <td>3.07</td>\n",
       "    </tr>\n",
       "    <tr>\n",
       "      <th>5</th>\n",
       "      <td>550</td>\n",
       "      <td>4.05</td>\n",
       "    </tr>\n",
       "    <tr>\n",
       "      <th>6</th>\n",
       "      <td>500</td>\n",
       "      <td>5.32</td>\n",
       "    </tr>\n",
       "    <tr>\n",
       "      <th>7</th>\n",
       "      <td>450</td>\n",
       "      <td>6.98</td>\n",
       "    </tr>\n",
       "    <tr>\n",
       "      <th>8</th>\n",
       "      <td>400</td>\n",
       "      <td>9.09</td>\n",
       "    </tr>\n",
       "    <tr>\n",
       "      <th>9</th>\n",
       "      <td>350</td>\n",
       "      <td>11.77</td>\n",
       "    </tr>\n",
       "    <tr>\n",
       "      <th>10</th>\n",
       "      <td>300</td>\n",
       "      <td>15.10</td>\n",
       "    </tr>\n",
       "    <tr>\n",
       "      <th>11</th>\n",
       "      <td>250</td>\n",
       "      <td>19.17</td>\n",
       "    </tr>\n",
       "    <tr>\n",
       "      <th>12</th>\n",
       "      <td>200</td>\n",
       "      <td>24.03</td>\n",
       "    </tr>\n",
       "    <tr>\n",
       "      <th>13</th>\n",
       "      <td>150</td>\n",
       "      <td>29.66</td>\n",
       "    </tr>\n",
       "    <tr>\n",
       "      <th>14</th>\n",
       "      <td>100</td>\n",
       "      <td>35.99</td>\n",
       "    </tr>\n",
       "    <tr>\n",
       "      <th>15</th>\n",
       "      <td>50</td>\n",
       "      <td>42.85</td>\n",
       "    </tr>\n",
       "    <tr>\n",
       "      <th>16</th>\n",
       "      <td>0</td>\n",
       "      <td>50.00</td>\n",
       "    </tr>\n",
       "    <tr>\n",
       "      <th>17</th>\n",
       "      <td>-50</td>\n",
       "      <td>57.15</td>\n",
       "    </tr>\n",
       "    <tr>\n",
       "      <th>18</th>\n",
       "      <td>-100</td>\n",
       "      <td>64.01</td>\n",
       "    </tr>\n",
       "    <tr>\n",
       "      <th>19</th>\n",
       "      <td>-150</td>\n",
       "      <td>70.34</td>\n",
       "    </tr>\n",
       "    <tr>\n",
       "      <th>20</th>\n",
       "      <td>-200</td>\n",
       "      <td>75.97</td>\n",
       "    </tr>\n",
       "    <tr>\n",
       "      <th>21</th>\n",
       "      <td>-250</td>\n",
       "      <td>80.83</td>\n",
       "    </tr>\n",
       "    <tr>\n",
       "      <th>22</th>\n",
       "      <td>-300</td>\n",
       "      <td>84.90</td>\n",
       "    </tr>\n",
       "    <tr>\n",
       "      <th>23</th>\n",
       "      <td>-350</td>\n",
       "      <td>88.23</td>\n",
       "    </tr>\n",
       "    <tr>\n",
       "      <th>24</th>\n",
       "      <td>-400</td>\n",
       "      <td>90.91</td>\n",
       "    </tr>\n",
       "    <tr>\n",
       "      <th>25</th>\n",
       "      <td>-450</td>\n",
       "      <td>93.02</td>\n",
       "    </tr>\n",
       "    <tr>\n",
       "      <th>26</th>\n",
       "      <td>-500</td>\n",
       "      <td>94.68</td>\n",
       "    </tr>\n",
       "    <tr>\n",
       "      <th>27</th>\n",
       "      <td>-550</td>\n",
       "      <td>95.95</td>\n",
       "    </tr>\n",
       "    <tr>\n",
       "      <th>28</th>\n",
       "      <td>-600</td>\n",
       "      <td>96.93</td>\n",
       "    </tr>\n",
       "    <tr>\n",
       "      <th>29</th>\n",
       "      <td>-650</td>\n",
       "      <td>97.68</td>\n",
       "    </tr>\n",
       "    <tr>\n",
       "      <th>30</th>\n",
       "      <td>-700</td>\n",
       "      <td>98.25</td>\n",
       "    </tr>\n",
       "    <tr>\n",
       "      <th>31</th>\n",
       "      <td>-750</td>\n",
       "      <td>98.68</td>\n",
       "    </tr>\n",
       "    <tr>\n",
       "      <th>32</th>\n",
       "      <td>-800</td>\n",
       "      <td>99.01</td>\n",
       "    </tr>\n",
       "  </tbody>\n",
       "</table>\n",
       "</div>"
      ],
      "text/plain": [
       "    elo_diff  win_percentage\n",
       "0        800            0.99\n",
       "1        750            1.32\n",
       "2        700            1.75\n",
       "3        650            2.32\n",
       "4        600            3.07\n",
       "5        550            4.05\n",
       "6        500            5.32\n",
       "7        450            6.98\n",
       "8        400            9.09\n",
       "9        350           11.77\n",
       "10       300           15.10\n",
       "11       250           19.17\n",
       "12       200           24.03\n",
       "13       150           29.66\n",
       "14       100           35.99\n",
       "15        50           42.85\n",
       "16         0           50.00\n",
       "17       -50           57.15\n",
       "18      -100           64.01\n",
       "19      -150           70.34\n",
       "20      -200           75.97\n",
       "21      -250           80.83\n",
       "22      -300           84.90\n",
       "23      -350           88.23\n",
       "24      -400           90.91\n",
       "25      -450           93.02\n",
       "26      -500           94.68\n",
       "27      -550           95.95\n",
       "28      -600           96.93\n",
       "29      -650           97.68\n",
       "30      -700           98.25\n",
       "31      -750           98.68\n",
       "32      -800           99.01"
      ]
     },
     "execution_count": 32,
     "metadata": {},
     "output_type": "execute_result"
    }
   ],
   "source": [
    "  \n",
    "# intialise data of lists.\n",
    "data = {'elo_diff': elo_difference,\n",
    "        'win_percentage': win_percentage}\n",
    "  \n",
    "# Create DataFrame\n",
    "df = pd.DataFrame(data)\n",
    "  \n",
    "# Print the output.\n",
    "df"
   ]
  },
  {
   "cell_type": "code",
   "execution_count": 33,
   "id": "ae2271c0",
   "metadata": {},
   "outputs": [],
   "source": [
    "#exporting csv\n",
    "df.to_csv(\"data/elo_diff_win_percentage.csv\", index = False, encoding='unicode_escape')\n"
   ]
  },
  {
   "cell_type": "code",
   "execution_count": null,
   "id": "e96d90fc",
   "metadata": {},
   "outputs": [],
   "source": []
  },
  {
   "cell_type": "code",
   "execution_count": null,
   "id": "1839c666",
   "metadata": {},
   "outputs": [],
   "source": []
  },
  {
   "cell_type": "code",
   "execution_count": null,
   "id": "96f3b369",
   "metadata": {},
   "outputs": [],
   "source": []
  },
  {
   "cell_type": "code",
   "execution_count": null,
   "id": "e556e2f8",
   "metadata": {},
   "outputs": [],
   "source": []
  },
  {
   "cell_type": "code",
   "execution_count": null,
   "id": "999df94c",
   "metadata": {},
   "outputs": [],
   "source": []
  },
  {
   "cell_type": "code",
   "execution_count": null,
   "id": "321b1d6d",
   "metadata": {},
   "outputs": [],
   "source": []
  },
  {
   "cell_type": "code",
   "execution_count": null,
   "id": "083fdca7",
   "metadata": {},
   "outputs": [],
   "source": []
  },
  {
   "cell_type": "code",
   "execution_count": null,
   "id": "a213de54",
   "metadata": {},
   "outputs": [],
   "source": []
  },
  {
   "cell_type": "code",
   "execution_count": null,
   "id": "3bae4282",
   "metadata": {},
   "outputs": [],
   "source": []
  }
 ],
 "metadata": {
  "kernelspec": {
   "display_name": "Python 3 (ipykernel)",
   "language": "python",
   "name": "python3"
  },
  "language_info": {
   "codemirror_mode": {
    "name": "ipython",
    "version": 3
   },
   "file_extension": ".py",
   "mimetype": "text/x-python",
   "name": "python",
   "nbconvert_exporter": "python",
   "pygments_lexer": "ipython3",
   "version": "3.9.12"
  }
 },
 "nbformat": 4,
 "nbformat_minor": 5
}
